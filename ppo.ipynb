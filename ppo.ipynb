{
 "cells": [
  {
   "cell_type": "code",
   "execution_count": null,
   "metadata": {},
   "outputs": [],
   "source": [
    "import PPO\n",
    "from env import MPSPEnv\n",
    "import wandb\n",
    "import numpy as np\n",
    "import torch\n",
    "import os\n",
    "os.environ['WANDB_NOTEBOOK_NAME'] = 'ppo.ipynb'\n",
    "torch.set_printoptions(sci_mode=False)\n",
    "wandb.login()"
   ]
  },
  {
   "cell_type": "code",
   "execution_count": null,
   "metadata": {},
   "outputs": [],
   "source": [
    "config = {\n",
    "    # Env\n",
    "    'ROWS': 5,\n",
    "    'COLUMNS': 5,\n",
    "    'N_PORTS': 7,\n",
    "    # Training\n",
    "    'EPISODES': 2000,\n",
    "    'LEARNING_RATE': 0.001,\n",
    "    'ADAM_EPSILON': 0.01,\n",
    "    'MEM_SIZE': 10000,\n",
    "    'BATCH_SIZE': 100,\n",
    "    'GAMMA': 0.95,\n",
    "    'EXPLORATION_MAX': 1.0,\n",
    "    'EXPLORATION_DECAY': 0.999,\n",
    "    'EXPLORATION_MIN': 0.005,\n",
    "    'EVAL_EPISODES': 50,\n",
    "    'MAX_EPISODE_STEPS': 200,\n",
    "    'TARGET_UPDATE_FREQ': 500,\n",
    "    'GRADIENT_CLIP': 5,\n",
    "    # Model\n",
    "    'HIDDEN_SIZE': 256,\n",
    "    'N_LAYERS': 4,\n",
    "    'ALPHA': 0.0003,\n",
    "    'EPOCHS': 4,\n",
    "    'N': 20,\n",
    "}"
   ]
  },
  {
   "cell_type": "code",
   "execution_count": null,
   "metadata": {},
   "outputs": [],
   "source": [
    "env = MPSPEnv(\n",
    "    config['ROWS'],\n",
    "    config['COLUMNS'],\n",
    "    config['N_PORTS']\n",
    ")\n",
    "# We flatten the observation space\n",
    "config['OBSERVATION_SPACE'] = (\n",
    "    np.prod(env.observation_space[0].shape) +\n",
    "    np.prod(env.observation_space[1].shape)\n",
    ")\n",
    "config['ACTION_SPACE'] = env.action_space.n\n"
   ]
  },
  {
   "cell_type": "code",
   "execution_count": null,
   "metadata": {},
   "outputs": [],
   "source": [
    "agent = PPO.Agent(n_actions=config['ACTION_SPACE'], batch_size=config['BATCH_SIZE'], \n",
    "                    alpha=config['ALPHA'], n_epochs=config['EPOCHS'], \n",
    "                    input_dims=config['OBSERVATION_SPACE'])"
   ]
  },
  {
   "cell_type": "code",
   "execution_count": null,
   "metadata": {},
   "outputs": [],
   "source": [
    "wandb.init(\n",
    "    project=\"PPO\",\n",
    "    entity=\"rl-msps\",\n",
    "    name=f\"{config['ROWS']}x{config['COLUMNS']}_{config['N_PORTS']}-ports\",\n",
    "    config=config,\n",
    "    tags=[\"test\"]\n",
    ")"
   ]
  },
  {
   "cell_type": "code",
   "execution_count": null,
   "metadata": {},
   "outputs": [],
   "source": [
    "best_score = env.reward_range[0]\n",
    "score_history = []\n",
    "\n",
    "learn_iters = 0\n",
    "avg_score = 0\n",
    "n_steps = 0\n",
    "\n",
    "for i in range(config['EPISODES']):\n",
    "    state, info = env.reset()\n",
    "    \n",
    "    done = False\n",
    "    score = 0\n",
    "    while not done:\n",
    "        state = np.concatenate((state[0].flatten(), state[1].flatten()))\n",
    "        action, prob, val = agent.choose_action(state, info['mask'])\n",
    "        state_, reward, done, info = env.step(action)\n",
    "        n_steps += 1\n",
    "        score += reward\n",
    "        agent.remember(state, action, prob, val, reward, done)\n",
    "        if n_steps % config['N'] == 0:\n",
    "            agent.learn()\n",
    "            learn_iters += 1\n",
    "        state = state_\n",
    "    score_history.append(score)\n",
    "    avg_score = np.mean(score_history[-100:])\n",
    "\n",
    "    if avg_score > best_score:\n",
    "        best_score = avg_score\n",
    "        # agent.save_models()\n",
    "\n",
    "    # print('episode', i, 'score %.1f' % score, 'avg score %.1f' % avg_score,\n",
    "    #         'time_steps', n_steps, 'learning_steps', learn_iters)\n",
    "\n",
    "    wandb.log({\n",
    "        \"Score\": score,\n",
    "        \"Avg. Score\": avg_score,\n",
    "    })\n",
    "x = [i+1 for i in range(len(score_history))]"
   ]
  },
  {
   "cell_type": "code",
   "execution_count": null,
   "metadata": {},
   "outputs": [],
   "source": [
    "wandb.finish()"
   ]
  }
 ],
 "metadata": {
  "kernelspec": {
   "display_name": "Python 3.9.13 ('base')",
   "language": "python",
   "name": "python3"
  },
  "language_info": {
   "codemirror_mode": {
    "name": "ipython",
    "version": 3
   },
   "file_extension": ".py",
   "mimetype": "text/x-python",
   "name": "python",
   "nbconvert_exporter": "python",
   "pygments_lexer": "ipython3",
   "version": "3.9.13"
  },
  "orig_nbformat": 4,
  "vscode": {
   "interpreter": {
    "hash": "59669bb1168edc622bb4dae0f982b2741a2a7b3cacb44a90a5e1c2622e59ac77"
   }
  }
 },
 "nbformat": 4,
 "nbformat_minor": 2
}
