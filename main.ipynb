{
 "cells": [
  {
   "cell_type": "code",
   "execution_count": null,
   "metadata": {},
   "outputs": [],
   "source": [
    "from ReplayBuffer import ReplayBuffer\n",
    "from DQN_Solver import DQN_Solver\n",
    "from env import MPSPEnv\n",
    "from DQN import DQN\n",
    "import numpy as np\n",
    "import wandb\n",
    "import torch\n",
    "import os\n",
    "os.environ['WANDB_NOTEBOOK_NAME'] = 'main.ipynb'\n",
    "wandb.login()"
   ]
  },
  {
   "cell_type": "code",
   "execution_count": null,
   "metadata": {},
   "outputs": [],
   "source": [
    "config = {\n",
    "    # Env\n",
    "    'ROWS': 10,\n",
    "    'COLUMNS': 10,\n",
    "    'N_PORTS': 8,\n",
    "    # Training\n",
    "    'EPISODES': 1000,\n",
    "    'LEARNING_RATE': 0.0001,\n",
    "    'MEM_SIZE': 10000,\n",
    "    'BATCH_SIZE': 64,\n",
    "    'GAMMA': 0.95,\n",
    "    'EXPLORATION_MAX': 1.0,\n",
    "    'EXPLORATION_DECAY': 0.999,\n",
    "    'EXPLORATION_MIN': 0.001,\n",
    "    # Model\n",
    "    'HIDDEN_SIZE_1': 1024,\n",
    "    'HIDDEN_SIZE_2': 512,\n",
    "}"
   ]
  },
  {
   "cell_type": "code",
   "execution_count": null,
   "metadata": {},
   "outputs": [],
   "source": [
    "env = MPSPEnv(\n",
    "    config['ROWS'],\n",
    "    config['COLUMNS'],\n",
    "    config['N_PORTS']\n",
    ")\n",
    "# We flatten the observation space\n",
    "config['OBSERVATION_SPACE'] = (\n",
    "    np.prod(env.observation_space[0].shape) +\n",
    "    np.prod(env.observation_space[1].shape)\n",
    ")\n",
    "config['ACTION_SPACE'] = env.action_space.n"
   ]
  },
  {
   "cell_type": "code",
   "execution_count": null,
   "metadata": {},
   "outputs": [],
   "source": [
    "wandb.init(\n",
    "    project=\"Q-learning\",\n",
    "    entity=\"rl-msps\",\n",
    "    name=f\"{config['ROWS']}x{config['COLUMNS']}_{config['N_PORTS']}-ports\",\n",
    "    config=config,\n",
    "    tags=[\"test\"]\n",
    ")"
   ]
  },
  {
   "cell_type": "code",
   "execution_count": null,
   "metadata": {},
   "outputs": [],
   "source": [
    "ReplayBuffer = ReplayBuffer(\n",
    "    mem_size=config['MEM_SIZE'],\n",
    "    observation_space=config['OBSERVATION_SPACE'],\n",
    "    batch_size=config['BATCH_SIZE']\n",
    ")\n",
    "DQN = DQN(\n",
    "    input_size=config['OBSERVATION_SPACE'],\n",
    "    output_size=config['ACTION_SPACE'],\n",
    "    hidden_size_1=config['HIDDEN_SIZE_1'],\n",
    "    hidden_size_2=config['HIDDEN_SIZE_2'],\n",
    "    learning_rate=config['LEARNING_RATE']\n",
    ")\n",
    "agent = DQN_Solver(\n",
    "    ReplayBuffer=ReplayBuffer,\n",
    "    DQN=DQN,\n",
    "    batch_size=config['BATCH_SIZE'],\n",
    "    exploration_max=config['EXPLORATION_MAX'],\n",
    "    gamma=config['GAMMA'],\n",
    "    exploration_decay=config['EXPLORATION_DECAY'],\n",
    "    exploration_min=config['EXPLORATION_MIN']\n",
    ")\n"
   ]
  },
  {
   "cell_type": "code",
   "execution_count": null,
   "metadata": {},
   "outputs": [],
   "source": [
    "for i in range(1, config['EPISODES']):\n",
    "    state, info = env.reset()\n",
    "    state = np.concatenate((state[0].flatten(), state[1].flatten()))\n",
    "    score = 0\n",
    "\n",
    "    while True:\n",
    "        action = agent.choose_action(state, info['mask'], env)\n",
    "        state_, reward, done, info = env.step(action)\n",
    "        state_ = np.concatenate((state_[0].flatten(), state_[1].flatten()))\n",
    "        agent.memory.add(state, action, reward, state_, done)\n",
    "        agent.learn()\n",
    "        state = state_\n",
    "        score += reward\n",
    "\n",
    "        if done:\n",
    "            wandb.log({\n",
    "                \"Episode Reward\": score\n",
    "            })\n",
    "            break\n"
   ]
  },
  {
   "cell_type": "code",
   "execution_count": null,
   "metadata": {},
   "outputs": [],
   "source": [
    "torch.save(DQN.state_dict(), os.path.join(wandb.run.dir, \"dqn.pt\"))\n",
    "wandb.finish()"
   ]
  }
 ],
 "metadata": {
  "kernelspec": {
   "display_name": "Python 3.9.13 ('base')",
   "language": "python",
   "name": "python3"
  },
  "language_info": {
   "codemirror_mode": {
    "name": "ipython",
    "version": 3
   },
   "file_extension": ".py",
   "mimetype": "text/x-python",
   "name": "python",
   "nbconvert_exporter": "python",
   "pygments_lexer": "ipython3",
   "version": "3.9.13"
  },
  "orig_nbformat": 4,
  "vscode": {
   "interpreter": {
    "hash": "59669bb1168edc622bb4dae0f982b2741a2a7b3cacb44a90a5e1c2622e59ac77"
   }
  }
 },
 "nbformat": 4,
 "nbformat_minor": 2
}
