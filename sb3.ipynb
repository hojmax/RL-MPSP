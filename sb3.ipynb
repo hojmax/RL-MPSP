{
 "cells": [
  {
   "cell_type": "code",
   "execution_count": null,
   "metadata": {},
   "outputs": [],
   "source": [
    "from stable_baselines3.common.env_util import make_vec_env\n",
    "from wandb.integration.sb3 import WandbCallback\n",
    "from sb3_contrib.ppo_mask import MaskablePPO\n",
    "from benchmark import get_benchmarking_data\n",
    "from env import MPSPEnv\n",
    "import numpy as np\n",
    "import torch\n",
    "import wandb\n",
    "import os\n",
    "os.environ['WANDB_NOTEBOOK_NAME'] = 'sb3.ipynb'\n",
    "os.environ[\"WANDB_SILENT\"] = 'true'\n",
    "wandb.login()"
   ]
  },
  {
   "cell_type": "code",
   "execution_count": null,
   "metadata": {},
   "outputs": [],
   "source": [
    "from torch import nn"
   ]
  },
  {
   "cell_type": "code",
   "execution_count": null,
   "metadata": {},
   "outputs": [],
   "source": [
    "test = nn.Sequential(\n",
    "                nn.Flatten(),\n",
    "                nn.Embedding(\n",
    "                    7,\n",
    "                    2\n",
    "                ),\n",
    "                nn.Flatten(),\n",
    ")"
   ]
  },
  {
   "cell_type": "code",
   "execution_count": null,
   "metadata": {},
   "outputs": [],
   "source": [
    "test_tensor = torch.tensor([[[1, 2, 3], [4, 5, 6]], [[4, 2, 3], [4, 5, 1]]])"
   ]
  },
  {
   "cell_type": "code",
   "execution_count": null,
   "metadata": {},
   "outputs": [],
   "source": [
    "square_tensor = torch.tensor([\n",
    "    [[1, 2, 3], [4, 5, 6], [7, 8, 9]],\n",
    "    [[1, 2, 3], [4, 5, 6], [7, 8, 9]]\n",
    "])\n",
    "square_tensor"
   ]
  },
  {
   "cell_type": "code",
   "execution_count": null,
   "metadata": {},
   "outputs": [],
   "source": [
    "# Upper triangular matrix (without diagonal)\n",
    "indeces  = torch.triu_indices(3, 3, offset=1)"
   ]
  },
  {
   "cell_type": "code",
   "execution_count": null,
   "metadata": {},
   "outputs": [],
   "source": [
    "# Extract upper triangular part of square_tensor. Apply along the batch dimension\n",
    "square_tensor[:, indeces[0], indeces[1]]"
   ]
  },
  {
   "cell_type": "code",
   "execution_count": null,
   "metadata": {},
   "outputs": [],
   "source": [
    "test(test_tensor)"
   ]
  },
  {
   "cell_type": "code",
   "execution_count": null,
   "metadata": {},
   "outputs": [],
   "source": [
    "config = {\n",
    "    # Environment\n",
    "    'ROWS': 10,\n",
    "    'COLUMNS': 4,\n",
    "    'N_PORTS': 10,\n",
    "    # Model\n",
    "    'PI_LAYER_SIZES': [64, 128, 64],\n",
    "    'VF_LAYER_SIZES': [64, 128, 64],\n",
    "    # Training\n",
    "    'TOTAL_TIMESTEPS': 4800000,\n",
    "    'BATCH_SIZE': 128\n",
    "}"
   ]
  },
  {
   "cell_type": "code",
   "execution_count": null,
   "metadata": {},
   "outputs": [],
   "source": [
    "run = wandb.init(\n",
    "    project=\"PPO-SB3\",\n",
    "    entity=\"rl-msps\",\n",
    "    sync_tensorboard=True,\n",
    "    name=f\"N{config['N_PORTS']}_R{config['ROWS']}_C{config['COLUMNS']}\",\n",
    "    config=config,\n",
    "    tags=[\"test\"]\n",
    ")"
   ]
  },
  {
   "cell_type": "code",
   "execution_count": null,
   "metadata": {},
   "outputs": [],
   "source": [
    "env = make_vec_env(\n",
    "    lambda: MPSPEnv(\n",
    "        config['ROWS'],\n",
    "        config['COLUMNS'],\n",
    "        config['N_PORTS']\n",
    "    ),\n",
    "    n_envs=8  # M2 with 8 cores\n",
    ")"
   ]
  },
  {
   "cell_type": "code",
   "execution_count": null,
   "metadata": {},
   "outputs": [],
   "source": [
    "env = MPSPEnv(\n",
    "        config['ROWS'],\n",
    "        config['COLUMNS'],\n",
    "        config['N_PORTS']\n",
    ")"
   ]
  },
  {
   "cell_type": "code",
   "execution_count": null,
   "metadata": {},
   "outputs": [],
   "source": [
    "observation = env.reset()"
   ]
  },
  {
   "cell_type": "code",
   "execution_count": null,
   "metadata": {},
   "outputs": [],
   "source": [
    "import torch.nn as nn"
   ]
  },
  {
   "cell_type": "code",
   "execution_count": null,
   "metadata": {},
   "outputs": [],
   "source": [
    "conv1 = nn.Conv2d(\n",
    "    in_channels=1,\n",
    "    out_channels=3,\n",
    "    kernel_size=3,\n",
    "    stride=1,\n",
    "    padding=1\n",
    ")"
   ]
  },
  {
   "cell_type": "code",
   "execution_count": null,
   "metadata": {},
   "outputs": [],
   "source": [
    "input = torch.tensor(observation['bay_matrix'], dtype=torch.float32).unsqueeze(0)\n",
    "input"
   ]
  },
  {
   "cell_type": "code",
   "execution_count": null,
   "metadata": {},
   "outputs": [],
   "source": [
    "input = conv1(input)\n",
    "input"
   ]
  },
  {
   "cell_type": "code",
   "execution_count": null,
   "metadata": {},
   "outputs": [],
   "source": [
    "pool = nn.MaxPool2d(2, 2)\n",
    "input = pool(input)\n",
    "input"
   ]
  },
  {
   "cell_type": "code",
   "execution_count": null,
   "metadata": {},
   "outputs": [],
   "source": [
    "observation"
   ]
  },
  {
   "cell_type": "code",
   "execution_count": null,
   "metadata": {},
   "outputs": [],
   "source": [
    "policy_kwargs = {\n",
    "    'activation_fn': torch.nn.ReLU,\n",
    "    'net_arch': [{\n",
    "        'pi': config['PI_LAYER_SIZES'],\n",
    "        'vf': config['VF_LAYER_SIZES']\n",
    "    }]\n",
    "}\n",
    "\n",
    "wandb_run_path = None\n",
    "\n",
    "if wandb_run_path:\n",
    "    model_file = wandb.restore('model.zip', run_path=wandb_run_path)\n",
    "    model = MaskablePPO.load(\n",
    "        model_file.name,\n",
    "        env=env\n",
    "    )\n",
    "else:\n",
    "    model = MaskablePPO(\n",
    "        policy='MultiInputPolicy',\n",
    "        env=env,\n",
    "        batch_size=config['BATCH_SIZE'],\n",
    "        verbose=0,\n",
    "        tensorboard_log=f\"runs/{run.id}\",\n",
    "        policy_kwargs=policy_kwargs\n",
    "    )"
   ]
  },
  {
   "cell_type": "code",
   "execution_count": null,
   "metadata": {},
   "outputs": [],
   "source": [
    "model.learn(\n",
    "    total_timesteps=config['TOTAL_TIMESTEPS'],\n",
    "    callback=WandbCallback(\n",
    "        model_save_path=f\"models/{run.id}\",\n",
    "        model_save_freq=config['TOTAL_TIMESTEPS'] // 4,\n",
    "    )\n",
    ")"
   ]
  },
  {
   "cell_type": "code",
   "execution_count": null,
   "metadata": {},
   "outputs": [],
   "source": [
    "eval_data = get_benchmarking_data('rl-mpsp-benchmark/set_2')\n",
    "eval_data = [\n",
    "    e for e in eval_data if (\n",
    "        e['R'] == config['ROWS'] and\n",
    "        e['C'] == config['COLUMNS'] and\n",
    "        e['N'] == config['N_PORTS']\n",
    "    )\n",
    "]"
   ]
  },
  {
   "cell_type": "code",
   "execution_count": null,
   "metadata": {},
   "outputs": [],
   "source": [
    "# Creating seperate env for evaluation\n",
    "env = MPSPEnv(\n",
    "    config['ROWS'],\n",
    "    config['COLUMNS'],\n",
    "    config['N_PORTS']\n",
    ")\n",
    "\n",
    "eval_rewards = []\n",
    "# Negative because env returns negative reward for shifts\n",
    "paper_rewards = [-e['paper_result'] for e in eval_data]\n",
    "paper_seeds = [e['seed'] for e in eval_data]\n",
    "\n",
    "for e in eval_data:\n",
    "    total_reward = 0\n",
    "    obs = env.reset(\n",
    "        transportation_matrix=e['transportation_matrix']\n",
    "    )\n",
    "    done = False\n",
    "    while not done:\n",
    "        action, _ = model.predict(\n",
    "            obs,\n",
    "            action_masks=env.action_masks()\n",
    "        )\n",
    "        obs, reward, done, _ = env.step(action)\n",
    "        total_reward += reward\n",
    "\n",
    "    eval_rewards.append(total_reward)\n",
    "\n",
    "eval = {\n",
    "    'mean_reward': np.mean(eval_rewards),\n",
    "    'mean_paper_reward': np.mean(paper_rewards),\n",
    "    'rewards': eval_rewards,\n",
    "    'paper_rewards': paper_rewards,\n",
    "    'paper_seeds': paper_seeds\n",
    "}\n",
    "run.summary['evaluation_benchmark'] = eval"
   ]
  },
  {
   "cell_type": "code",
   "execution_count": null,
   "metadata": {},
   "outputs": [],
   "source": [
    "run.finish()"
   ]
  }
 ],
 "metadata": {
  "kernelspec": {
   "display_name": "Python 3.9.13 ('base')",
   "language": "python",
   "name": "python3"
  },
  "language_info": {
   "codemirror_mode": {
    "name": "ipython",
    "version": 3
   },
   "file_extension": ".py",
   "mimetype": "text/x-python",
   "name": "python",
   "nbconvert_exporter": "python",
   "pygments_lexer": "ipython3",
   "version": "3.9.13"
  },
  "orig_nbformat": 4,
  "vscode": {
   "interpreter": {
    "hash": "59669bb1168edc622bb4dae0f982b2741a2a7b3cacb44a90a5e1c2622e59ac77"
   }
  }
 },
 "nbformat": 4,
 "nbformat_minor": 2
}
