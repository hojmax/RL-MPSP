{
 "cells": [
  {
   "cell_type": "code",
   "execution_count": 2,
   "metadata": {},
   "outputs": [
    {
     "name": "stdout",
     "output_type": "stream",
     "text": [
      "pygame 2.1.2 (SDL 2.0.18, Python 3.9.13)\n",
      "Hello from the pygame community. https://www.pygame.org/contribute.html\n"
     ]
    },
    {
     "data": {
      "text/plain": [
       "True"
      ]
     },
     "execution_count": 2,
     "metadata": {},
     "output_type": "execute_result"
    }
   ],
   "source": [
    "from stable_baselines3.common.env_util import make_vec_env\n",
    "from wandb.integration.sb3 import WandbCallback\n",
    "from sb3_contrib.ppo_mask import MaskablePPO\n",
    "from benchmark import get_benchmarking_data\n",
    "from env import MPSPEnv\n",
    "import numpy as np\n",
    "import torch\n",
    "import wandb\n",
    "import os\n",
    "os.environ['WANDB_NOTEBOOK_NAME'] = 'sb3.ipynb'\n",
    "os.environ[\"WANDB_SILENT\"] = 'true'\n",
    "wandb.login()"
   ]
  },
  {
   "cell_type": "code",
   "execution_count": null,
   "metadata": {},
   "outputs": [],
   "source": [
    "from torch import nn"
   ]
  },
  {
   "cell_type": "code",
   "execution_count": null,
   "metadata": {},
   "outputs": [],
   "source": [
    "test = nn.Sequential(\n",
    "                nn.Flatten(),\n",
    "                nn.Embedding(\n",
    "                    7,\n",
    "                    2\n",
    "                ),\n",
    "                nn.Flatten(),\n",
    ")"
   ]
  },
  {
   "cell_type": "code",
   "execution_count": null,
   "metadata": {},
   "outputs": [],
   "source": [
    "test_tensor = torch.tensor([[[1, 2, 3], [4, 5, 6]], [[4, 2, 3], [4, 5, 1]]])"
   ]
  },
  {
   "cell_type": "code",
   "execution_count": null,
   "metadata": {},
   "outputs": [],
   "source": [
    "square_tensor = torch.tensor([\n",
    "    [[1, 2, 3], [4, 5, 6], [7, 8, 9]],\n",
    "    [[1, 2, 3], [4, 5, 6], [7, 8, 9]]\n",
    "])\n",
    "square_tensor"
   ]
  },
  {
   "cell_type": "code",
   "execution_count": null,
   "metadata": {},
   "outputs": [],
   "source": [
    "# Upper triangular matrix (without diagonal)\n",
    "indeces  = torch.triu_indices(3, 3, offset=1)"
   ]
  },
  {
   "cell_type": "code",
   "execution_count": null,
   "metadata": {},
   "outputs": [],
   "source": [
    "# Extract upper triangular part of square_tensor. Apply along the batch dimension\n",
    "square_tensor[:, indeces[0], indeces[1]]"
   ]
  },
  {
   "cell_type": "code",
   "execution_count": null,
   "metadata": {},
   "outputs": [],
   "source": [
    "test(test_tensor)"
   ]
  },
  {
   "cell_type": "code",
   "execution_count": 4,
   "metadata": {},
   "outputs": [],
   "source": [
    "config = {\n",
    "    # Environment\n",
    "    'ROWS': 10,\n",
    "    'COLUMNS': 4,\n",
    "    'N_PORTS': 10,\n",
    "    # Model\n",
    "    'PI_LAYER_SIZES': [64, 128, 64],\n",
    "    'VF_LAYER_SIZES': [64, 128, 64],\n",
    "    # Training\n",
    "    'TOTAL_TIMESTEPS': 4800000,\n",
    "    'BATCH_SIZE': 128\n",
    "}"
   ]
  },
  {
   "cell_type": "code",
   "execution_count": null,
   "metadata": {},
   "outputs": [],
   "source": [
    "run = wandb.init(\n",
    "    project=\"PPO-SB3\",\n",
    "    entity=\"rl-msps\",\n",
    "    sync_tensorboard=True,\n",
    "    name=f\"N{config['N_PORTS']}_R{config['ROWS']}_C{config['COLUMNS']}\",\n",
    "    config=config,\n",
    "    tags=[\"test\"]\n",
    ")"
   ]
  },
  {
   "cell_type": "code",
   "execution_count": 5,
   "metadata": {},
   "outputs": [],
   "source": [
    "env = make_vec_env(\n",
    "    lambda: MPSPEnv(\n",
    "        config['ROWS'],\n",
    "        config['COLUMNS'],\n",
    "        config['N_PORTS']\n",
    "    ),\n",
    "    n_envs=8  # M2 with 8 cores\n",
    ")"
   ]
  },
  {
   "cell_type": "code",
   "execution_count": 6,
   "metadata": {},
   "outputs": [],
   "source": [
    "env = MPSPEnv(\n",
    "        config['ROWS'],\n",
    "        config['COLUMNS'],\n",
    "        config['N_PORTS']\n",
    "    )"
   ]
  },
  {
   "cell_type": "code",
   "execution_count": 11,
   "metadata": {},
   "outputs": [
    {
     "name": "stdout",
     "output_type": "stream",
     "text": [
      "tensor([[[ 9.,  0.,  1.,  4.],\n",
      "         [ 3.,  9.,  2.,  0.],\n",
      "         [ 2.,  2.,  0.,  1.],\n",
      "         [ 5.,  1.,  2.,  0.],\n",
      "         [ 3.,  8.,  8.,  7.],\n",
      "         [ 6., 10.,  1.,  3.],\n",
      "         [ 9.,  9.,  9.,  6.],\n",
      "         [10.,  8.,  4.,  3.],\n",
      "         [ 4.,  2.,  9.,  2.],\n",
      "         [ 1.,  8.,  7.,  0.]],\n",
      "\n",
      "        [[ 4.,  5.,  8.,  5.],\n",
      "         [ 9.,  3.,  0.,  8.],\n",
      "         [ 3.,  9.,  5.,  8.],\n",
      "         [ 2.,  6.,  5.,  8.],\n",
      "         [ 7.,  2.,  5.,  2.],\n",
      "         [ 2.,  9.,  0.,  6.],\n",
      "         [ 6.,  4.,  6.,  4.],\n",
      "         [ 8.,  0.,  5.,  1.],\n",
      "         [ 6.,  7.,  6.,  8.],\n",
      "         [ 5.,  7., 10.,  6.]]])\n",
      "tensor([[2],\n",
      "        [1]])\n"
     ]
    }
   ],
   "source": [
    "bay1 = env.observation_space.sample()['bay_matrix']\n",
    "bay2 = env.observation_space.sample()['bay_matrix']\n",
    "bay = torch.tensor([bay1, bay2]).float()\n",
    "container = torch.tensor([[2], [1]]).long()\n",
    "print(bay)\n",
    "print(container)\n"
   ]
  },
  {
   "cell_type": "code",
   "execution_count": 15,
   "metadata": {},
   "outputs": [],
   "source": [
    "embed_size = 2\n",
    "embedding = torch.nn.Embedding(\n",
    "    config['N_PORTS'],\n",
    "    embed_size\n",
    ")"
   ]
  },
  {
   "cell_type": "code",
   "execution_count": 77,
   "metadata": {},
   "outputs": [
    {
     "data": {
      "text/plain": [
       "tensor([[[ 0.5578,  1.5095]],\n",
       "\n",
       "        [[-2.1424, -0.7622]]], grad_fn=<EmbeddingBackward0>)"
      ]
     },
     "execution_count": 77,
     "metadata": {},
     "output_type": "execute_result"
    }
   ],
   "source": [
    "#embedding(container)"
   ]
  },
  {
   "cell_type": "code",
   "execution_count": 68,
   "metadata": {},
   "outputs": [],
   "source": [
    "linear_input_size = 10 * embed_size\n",
    "linear_output_size = 5\n",
    "linear = torch.nn.Linear(linear_input_size, linear_output_size)"
   ]
  },
  {
   "cell_type": "code",
   "execution_count": 8,
   "metadata": {},
   "outputs": [
    {
     "data": {
      "text/plain": [
       "tensor([[[ 4,  4, 10, 10],\n",
       "         [ 4,  0,  9,  8],\n",
       "         [ 1,  1,  7,  2],\n",
       "         [10,  2,  1,  7],\n",
       "         [ 6,  3,  5,  3],\n",
       "         [ 8,  1,  7,  2],\n",
       "         [ 5,  9,  1,  8],\n",
       "         [ 6, 10,  4,  5],\n",
       "         [ 4,  5,  0,  8],\n",
       "         [ 9,  9,  0,  6]],\n",
       "\n",
       "        [[ 4,  6,  6,  8],\n",
       "         [10,  5,  3,  7],\n",
       "         [ 1,  1, 10, 10],\n",
       "         [ 4,  5,  9,  6],\n",
       "         [ 2,  2,  2,  5],\n",
       "         [ 4,  7,  3,  8],\n",
       "         [ 1,  9,  3,  5],\n",
       "         [ 7, 10,  0,  2],\n",
       "         [ 6,  0,  1,  7],\n",
       "         [ 9,  3,  3,  9]]])"
      ]
     },
     "execution_count": 8,
     "metadata": {},
     "output_type": "execute_result"
    }
   ],
   "source": [
    "bay"
   ]
  },
  {
   "cell_type": "code",
   "execution_count": 9,
   "metadata": {},
   "outputs": [],
   "source": [
    "linear = torch.nn.Linear(4, 2)"
   ]
  },
  {
   "cell_type": "code",
   "execution_count": 36,
   "metadata": {},
   "outputs": [
    {
     "data": {
      "text/plain": [
       "tensor([[0, 1, 2, 3, 4, 5, 6, 7, 8, 9],\n",
       "        [0, 1, 2, 3, 4, 5, 6, 7, 8, 9]])"
      ]
     },
     "execution_count": 36,
     "metadata": {},
     "output_type": "execute_result"
    }
   ],
   "source": [
    "a = torch.arange(10).repeat(2,1)\n",
    "a"
   ]
  },
  {
   "cell_type": "code",
   "execution_count": 31,
   "metadata": {},
   "outputs": [
    {
     "data": {
      "text/plain": [
       "tensor([[[ 0.0294,  0.9602],\n",
       "         [-0.5457,  1.2565],\n",
       "         [-0.7554,  0.4130],\n",
       "         [-0.1260, -0.1035],\n",
       "         [ 1.3723, -0.1461],\n",
       "         [ 1.6528,  1.4048],\n",
       "         [-0.7836, -0.2007],\n",
       "         [ 0.9972,  0.7696],\n",
       "         [ 0.3399, -1.9451],\n",
       "         [-0.4238, -0.4082]],\n",
       "\n",
       "        [[ 0.0294,  0.9602],\n",
       "         [-0.5457,  1.2565],\n",
       "         [-0.7554,  0.4130],\n",
       "         [-0.1260, -0.1035],\n",
       "         [ 1.3723, -0.1461],\n",
       "         [ 1.6528,  1.4048],\n",
       "         [-0.7836, -0.2007],\n",
       "         [ 0.9972,  0.7696],\n",
       "         [ 0.3399, -1.9451],\n",
       "         [-0.4238, -0.4082]]], grad_fn=<EmbeddingBackward0>)"
      ]
     },
     "execution_count": 31,
     "metadata": {},
     "output_type": "execute_result"
    }
   ],
   "source": [
    "embedding(a)"
   ]
  },
  {
   "cell_type": "code",
   "execution_count": 19,
   "metadata": {},
   "outputs": [
    {
     "data": {
      "text/plain": [
       "tensor([[ 0.0294,  0.9602],\n",
       "        [-0.5457,  1.2565],\n",
       "        [-0.7554,  0.4130],\n",
       "        [-0.1260, -0.1035],\n",
       "        [ 1.3723, -0.1461],\n",
       "        [ 1.6528,  1.4048],\n",
       "        [-0.7836, -0.2007],\n",
       "        [ 0.9972,  0.7696],\n",
       "        [ 0.3399, -1.9451],\n",
       "        [-0.4238, -0.4082]], grad_fn=<EmbeddingBackward0>)"
      ]
     },
     "execution_count": 19,
     "metadata": {},
     "output_type": "execute_result"
    }
   ],
   "source": [
    "# As long\n",
    "embedding(torch.arange(10).long())"
   ]
  },
  {
   "cell_type": "code",
   "execution_count": 38,
   "metadata": {},
   "outputs": [
    {
     "data": {
      "text/plain": [
       "tensor([[[ 0.9858,  1.3615,  0.0294,  0.9602],\n",
       "         [ 4.8792, -4.2454, -0.5457,  1.2565],\n",
       "         [ 1.4597, -0.7545, -0.7554,  0.4130],\n",
       "         [ 0.9516, -0.3662, -0.1260, -0.1035],\n",
       "         [ 9.0474, -5.8051,  1.3723, -0.1461],\n",
       "         [ 5.6129, -3.6134,  1.6528,  1.4048],\n",
       "         [ 8.6722, -5.2568, -0.7836, -0.2007],\n",
       "         [ 5.2210, -2.9066,  0.9972,  0.7696],\n",
       "         [ 4.7701, -3.4271,  0.3399, -1.9451],\n",
       "         [ 6.5015, -6.0037, -0.4238, -0.4082]],\n",
       "\n",
       "        [[ 6.8351, -4.3232,  0.0294,  0.9602],\n",
       "         [ 3.4030,  0.4797, -0.5457,  1.2565],\n",
       "         [ 8.7764, -5.1753, -0.7554,  0.4130],\n",
       "         [ 7.5482, -4.1114, -0.1260, -0.1035],\n",
       "         [ 2.9118, -1.3645,  1.3723, -0.1461],\n",
       "         [ 6.4130, -3.6865,  1.6528,  1.4048],\n",
       "         [ 5.0278, -2.7655, -0.7836, -0.2007],\n",
       "         [ 1.5078, -0.2974,  0.9972,  0.7696],\n",
       "         [ 7.8048, -3.9955,  0.3399, -1.9451],\n",
       "         [ 8.6791, -5.6400, -0.4238, -0.4082]]], grad_fn=<CatBackward0>)"
      ]
     },
     "execution_count": 38,
     "metadata": {},
     "output_type": "execute_result"
    }
   ],
   "source": [
    "torch.cat([linear(bay), embedding(a)], dim=2)"
   ]
  },
  {
   "cell_type": "code",
   "execution_count": 37,
   "metadata": {},
   "outputs": [
    {
     "data": {
      "text/plain": [
       "tensor([[[ 0.0294,  0.9602],\n",
       "         [-0.5457,  1.2565],\n",
       "         [-0.7554,  0.4130],\n",
       "         [-0.1260, -0.1035],\n",
       "         [ 1.3723, -0.1461],\n",
       "         [ 1.6528,  1.4048],\n",
       "         [-0.7836, -0.2007],\n",
       "         [ 0.9972,  0.7696],\n",
       "         [ 0.3399, -1.9451],\n",
       "         [-0.4238, -0.4082]],\n",
       "\n",
       "        [[ 0.0294,  0.9602],\n",
       "         [-0.5457,  1.2565],\n",
       "         [-0.7554,  0.4130],\n",
       "         [-0.1260, -0.1035],\n",
       "         [ 1.3723, -0.1461],\n",
       "         [ 1.6528,  1.4048],\n",
       "         [-0.7836, -0.2007],\n",
       "         [ 0.9972,  0.7696],\n",
       "         [ 0.3399, -1.9451],\n",
       "         [-0.4238, -0.4082]]], grad_fn=<EmbeddingBackward0>)"
      ]
     },
     "execution_count": 37,
     "metadata": {},
     "output_type": "execute_result"
    }
   ],
   "source": [
    "embedding(a)"
   ]
  },
  {
   "cell_type": "code",
   "execution_count": 12,
   "metadata": {},
   "outputs": [
    {
     "data": {
      "text/plain": [
       "tensor([[[ 0.9858,  1.3615],\n",
       "         [ 4.8792, -4.2454],\n",
       "         [ 1.4597, -0.7545],\n",
       "         [ 0.9516, -0.3662],\n",
       "         [ 9.0474, -5.8051],\n",
       "         [ 5.6129, -3.6134],\n",
       "         [ 8.6722, -5.2568],\n",
       "         [ 5.2210, -2.9066],\n",
       "         [ 4.7701, -3.4271],\n",
       "         [ 6.5015, -6.0037]],\n",
       "\n",
       "        [[ 6.8351, -4.3232],\n",
       "         [ 3.4030,  0.4797],\n",
       "         [ 8.7764, -5.1753],\n",
       "         [ 7.5482, -4.1114],\n",
       "         [ 2.9118, -1.3645],\n",
       "         [ 6.4130, -3.6865],\n",
       "         [ 5.0278, -2.7655],\n",
       "         [ 1.5078, -0.2974],\n",
       "         [ 7.8048, -3.9955],\n",
       "         [ 8.6791, -5.6400]]], grad_fn=<ViewBackward0>)"
      ]
     },
     "execution_count": 12,
     "metadata": {},
     "output_type": "execute_result"
    }
   ],
   "source": [
    "linear(bay)"
   ]
  },
  {
   "cell_type": "code",
   "execution_count": 76,
   "metadata": {},
   "outputs": [
    {
     "data": {
      "text/plain": [
       "tensor([[[-0.6926, -0.5299,  0.0261,  1.6368,  0.0278],\n",
       "         [ 0.0350, -0.2245, -0.3679,  0.2331, -0.4008],\n",
       "         [ 0.3575,  0.7104,  0.1020,  0.2330, -0.4625],\n",
       "         [ 0.7231, -0.1233, -0.3874,  0.3690, -0.5451]],\n",
       "\n",
       "        [[ 0.5493,  1.0466,  0.5138, -0.3125,  1.0142],\n",
       "         [-0.4114,  0.1759, -0.1001, -0.2051, -1.0957],\n",
       "         [-0.7512, -0.5073,  0.8956,  0.6195, -0.0052],\n",
       "         [ 0.7329, -0.3540, -0.1081, -0.1655,  0.1595]]],\n",
       "       grad_fn=<ViewBackward0>)"
      ]
     },
     "execution_count": 76,
     "metadata": {},
     "output_type": "execute_result"
    }
   ],
   "source": [
    "linear(output)"
   ]
  },
  {
   "cell_type": "code",
   "execution_count": 74,
   "metadata": {},
   "outputs": [
    {
     "data": {
      "text/plain": [
       "tensor([[-0.6926, -0.5299,  0.0261,  1.6368,  0.0278,  0.0350, -0.2245, -0.3679,\n",
       "          0.2331, -0.4008,  0.3575,  0.7104,  0.1020,  0.2330, -0.4625,  0.7231,\n",
       "         -0.1233, -0.3874,  0.3690, -0.5451],\n",
       "        [ 0.5493,  1.0466,  0.5138, -0.3125,  1.0142, -0.4114,  0.1759, -0.1001,\n",
       "         -0.2051, -1.0957, -0.7512, -0.5073,  0.8956,  0.6195, -0.0052,  0.7329,\n",
       "         -0.3540, -0.1081, -0.1655,  0.1595]], grad_fn=<ReshapeAliasBackward0>)"
      ]
     },
     "execution_count": 74,
     "metadata": {},
     "output_type": "execute_result"
    }
   ],
   "source": [
    "torch.nn.Flatten()(linear(output))"
   ]
  },
  {
   "cell_type": "code",
   "execution_count": null,
   "metadata": {},
   "outputs": [],
   "source": [
    "env._get_long_distance_transportation_matrix(10)"
   ]
  },
  {
   "cell_type": "code",
   "execution_count": null,
   "metadata": {},
   "outputs": [],
   "source": [
    "env._get_short_distance_transportation_matrix(10)"
   ]
  },
  {
   "cell_type": "code",
   "execution_count": null,
   "metadata": {},
   "outputs": [],
   "source": [
    "env._get_mixed_distance_transportation_matrix(10)"
   ]
  },
  {
   "cell_type": "code",
   "execution_count": null,
   "metadata": {},
   "outputs": [],
   "source": [
    "env = MPSPEnv(\n",
    "        config['ROWS'],\n",
    "        config['COLUMNS'],\n",
    "        config['N_PORTS']\n",
    ")"
   ]
  },
  {
   "cell_type": "code",
   "execution_count": null,
   "metadata": {},
   "outputs": [],
   "source": [
    "observation = env.reset()"
   ]
  },
  {
   "cell_type": "code",
   "execution_count": null,
   "metadata": {},
   "outputs": [],
   "source": [
    "import torch.nn as nn"
   ]
  },
  {
   "cell_type": "code",
   "execution_count": null,
   "metadata": {},
   "outputs": [],
   "source": [
    "conv1 = nn.Conv2d(\n",
    "    in_channels=1,\n",
    "    out_channels=3,\n",
    "    kernel_size=3,\n",
    "    stride=1,\n",
    "    padding=1\n",
    ")"
   ]
  },
  {
   "cell_type": "code",
   "execution_count": null,
   "metadata": {},
   "outputs": [],
   "source": [
    "input = torch.tensor(observation['bay_matrix'], dtype=torch.float32).unsqueeze(0)\n",
    "input"
   ]
  },
  {
   "cell_type": "code",
   "execution_count": null,
   "metadata": {},
   "outputs": [],
   "source": [
    "input = conv1(input)\n",
    "input"
   ]
  },
  {
   "cell_type": "code",
   "execution_count": null,
   "metadata": {},
   "outputs": [],
   "source": [
    "pool = nn.MaxPool2d(2, 2)\n",
    "input = pool(input)\n",
    "input"
   ]
  },
  {
   "cell_type": "code",
   "execution_count": null,
   "metadata": {},
   "outputs": [],
   "source": [
    "observation"
   ]
  },
  {
   "cell_type": "code",
   "execution_count": null,
   "metadata": {},
   "outputs": [],
   "source": [
    "policy_kwargs = {\n",
    "    'activation_fn': torch.nn.ReLU,\n",
    "    'net_arch': [{\n",
    "        'pi': config['PI_LAYER_SIZES'],\n",
    "        'vf': config['VF_LAYER_SIZES']\n",
    "    }]\n",
    "}\n",
    "\n",
    "wandb_run_path = None\n",
    "\n",
    "if wandb_run_path:\n",
    "    model_file = wandb.restore('model.zip', run_path=wandb_run_path)\n",
    "    model = MaskablePPO.load(\n",
    "        model_file.name,\n",
    "        env=env\n",
    "    )\n",
    "else:\n",
    "    model = MaskablePPO(\n",
    "        policy='MultiInputPolicy',\n",
    "        env=env,\n",
    "        batch_size=config['BATCH_SIZE'],\n",
    "        verbose=0,\n",
    "        # tensorboard_log=f\"runs/{run.id}\",\n",
    "        policy_kwargs=policy_kwargs\n",
    "    )"
   ]
  },
  {
   "cell_type": "code",
   "execution_count": null,
   "metadata": {},
   "outputs": [],
   "source": [
    "vars(model)"
   ]
  },
  {
   "cell_type": "code",
   "execution_count": null,
   "metadata": {},
   "outputs": [],
   "source": [
    "model.learn(\n",
    "    total_timesteps=config['TOTAL_TIMESTEPS'],\n",
    "    callback=WandbCallback(\n",
    "        model_save_path=f\"models/{run.id}\",\n",
    "        model_save_freq=config['TOTAL_TIMESTEPS'] // 4,\n",
    "    )\n",
    ")"
   ]
  },
  {
   "cell_type": "code",
   "execution_count": null,
   "metadata": {},
   "outputs": [],
   "source": [
    "eval_data = get_benchmarking_data('rl-mpsp-benchmark/set_2')\n",
    "eval_data = [\n",
    "    e for e in eval_data if (\n",
    "        e['R'] == config['ROWS'] and\n",
    "        e['C'] == config['COLUMNS'] and\n",
    "        e['N'] == config['N_PORTS']\n",
    "    )\n",
    "]"
   ]
  },
  {
   "cell_type": "code",
   "execution_count": null,
   "metadata": {},
   "outputs": [],
   "source": [
    "# Creating seperate env for evaluation\n",
    "env = MPSPEnv(\n",
    "    config['ROWS'],\n",
    "    config['COLUMNS'],\n",
    "    config['N_PORTS']\n",
    ")\n",
    "\n",
    "eval_rewards = []\n",
    "# Negative because env returns negative reward for shifts\n",
    "paper_rewards = [-e['paper_result'] for e in eval_data]\n",
    "paper_seeds = [e['seed'] for e in eval_data]\n",
    "\n",
    "for e in eval_data:\n",
    "    total_reward = 0\n",
    "    obs = env.reset(\n",
    "        transportation_matrix=e['transportation_matrix']\n",
    "    )\n",
    "    done = False\n",
    "    while not done:\n",
    "        action, _ = model.predict(\n",
    "            obs,\n",
    "            action_masks=env.action_masks()\n",
    "        )\n",
    "        obs, reward, done, _ = env.step(action)\n",
    "        total_reward += reward\n",
    "\n",
    "    eval_rewards.append(total_reward)\n",
    "\n",
    "eval = {\n",
    "    'mean_reward': np.mean(eval_rewards),\n",
    "    'mean_paper_reward': np.mean(paper_rewards),\n",
    "    'rewards': eval_rewards,\n",
    "    'paper_rewards': paper_rewards,\n",
    "    'paper_seeds': paper_seeds\n",
    "}\n",
    "run.summary['evaluation_benchmark'] = eval"
   ]
  },
  {
   "cell_type": "code",
   "execution_count": null,
   "metadata": {},
   "outputs": [],
   "source": [
    "run.finish()"
   ]
  }
 ],
 "metadata": {
  "kernelspec": {
   "display_name": "Python 3.9.13 ('base')",
   "language": "python",
   "name": "python3"
  },
  "language_info": {
   "codemirror_mode": {
    "name": "ipython",
    "version": 3
   },
   "file_extension": ".py",
   "mimetype": "text/x-python",
   "name": "python",
   "nbconvert_exporter": "python",
   "pygments_lexer": "ipython3",
   "version": "3.9.13"
  },
  "orig_nbformat": 4,
  "vscode": {
   "interpreter": {
    "hash": "59669bb1168edc622bb4dae0f982b2741a2a7b3cacb44a90a5e1c2622e59ac77"
   }
  }
 },
 "nbformat": 4,
 "nbformat_minor": 2
}
