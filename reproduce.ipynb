{
 "cells": [
  {
   "cell_type": "code",
   "execution_count": 12,
   "metadata": {},
   "outputs": [],
   "source": [
    "from ReplayBuffer import ReplayBuffer\n",
    "from DQN_Solver import DQN_Solver\n",
    "from env import MPSPEnv\n",
    "from DQN import DQN\n",
    "import numpy as np\n",
    "import torch\n",
    "import wandb\n",
    "import os\n",
    "\n",
    "os.environ['WANDB_NOTEBOOK_NAME'] = 'reproduce.ipynb'\n",
    "wandb.login()\n",
    "api = wandb.Api()"
   ]
  },
  {
   "cell_type": "code",
   "execution_count": 2,
   "metadata": {},
   "outputs": [],
   "source": [
    "run_path = \"rl-msps/Q-learning/3psmd7fm\"\n",
    "files_to_restore = [\n",
    "    'dqn.pt'\n",
    "]\n",
    "run = api.run(run_path)\n",
    "files = run.files()\n",
    "\n",
    "for file in files:\n",
    "    if file.name in files_to_restore:\n",
    "        file.download(replace=True, root='./saved_models')\n",
    "\n",
    "config = run.config"
   ]
  },
  {
   "cell_type": "code",
   "execution_count": 3,
   "metadata": {},
   "outputs": [],
   "source": [
    "env = MPSPEnv(\n",
    "    config['ROWS'],\n",
    "    config['COLUMNS'],\n",
    "    config['N_PORTS']\n",
    ")"
   ]
  },
  {
   "cell_type": "code",
   "execution_count": 4,
   "metadata": {},
   "outputs": [],
   "source": [
    "DQN = DQN(\n",
    "    input_size=config['OBSERVATION_SPACE'],\n",
    "    output_size=config['ACTION_SPACE'],\n",
    "    hidden_size=config['HIDDEN_SIZE'],\n",
    "    n_layers=config['N_LAYERS'],\n",
    "    learning_rate=config['LEARNING_RATE']\n",
    ")\n",
    "DQN.load('./saved_models/dqn.pt')\n",
    "agent = DQN_Solver(\n",
    "    ReplayBuffer=None,\n",
    "    DQN=DQN,\n",
    "    batch_size=None,\n",
    "    exploration_max=None,\n",
    "    gamma=None,\n",
    "    exploration_decay=None,\n",
    "    exploration_min=None\n",
    ")"
   ]
  },
  {
   "cell_type": "code",
   "execution_count": 33,
   "metadata": {},
   "outputs": [],
   "source": [
    "def get_writer(filename):\n",
    "    # Clears file\n",
    "    with open(filename, 'w') as f:\n",
    "        pass\n",
    "    \n",
    "    def write_to_file(text):\n",
    "        with open(filename, 'a') as f:\n",
    "            f.write(text)\n",
    "    return write_to_file\n",
    "\n",
    "\n",
    "writer = get_writer('run.txt')"
   ]
  },
  {
   "cell_type": "code",
   "execution_count": 34,
   "metadata": {},
   "outputs": [
    {
     "name": "stdout",
     "output_type": "stream",
     "text": [
      "Average reward: -0.86\n"
     ]
    }
   ],
   "source": [
    "agent.eval()\n",
    "sum_reward = 0\n",
    "\n",
    "for i in range(1, config['EVAL_EPISODES']):\n",
    "    writer(f\"--- Episode {i}:\\n\")\n",
    "    state, info = env.reset()\n",
    "    writer(f\"- Port {env.port}\\n\")\n",
    "    writer(f\"Bay:\\n{state[0]}\\n\")\n",
    "    writer(f\"Transportation:\\n{state[1]}\\n\\n\\n\")\n",
    "    state = np.concatenate((state[0].flatten(), state[1].flatten()))\n",
    "\n",
    "    while True:\n",
    "        action, q_values = agent.choose_action(state, info['mask'], env)\n",
    "        q_values = np.round(q_values.cpu().numpy(), 2)[0]\n",
    "        state_, reward, done, info = env.step(action)\n",
    "        writer(f\"- Port {env.port}\\n\")\n",
    "        writer(f\"Bay:\\n{state_[0]}\\n\")\n",
    "        writer(f\"Transportation:\\n{state_[1]}\\n\")\n",
    "        writer(f\"Action: {action}\\n\")\n",
    "        writer(f\"Q-values: {q_values}\\n\")\n",
    "        writer(f\"Reward: {reward}\\n\\n\")\n",
    "\n",
    "\n",
    "        state_ = np.concatenate((state_[0].flatten(), state_[1].flatten()))\n",
    "        state = state_\n",
    "        sum_reward += reward\n",
    "\n",
    "        if done:\n",
    "            break\n",
    "\n",
    "print(f'Average reward: {sum_reward / config[\"EVAL_EPISODES\"]}')\n"
   ]
  }
 ],
 "metadata": {
  "kernelspec": {
   "display_name": "Python 3.9.13 ('base')",
   "language": "python",
   "name": "python3"
  },
  "language_info": {
   "codemirror_mode": {
    "name": "ipython",
    "version": 3
   },
   "file_extension": ".py",
   "mimetype": "text/x-python",
   "name": "python",
   "nbconvert_exporter": "python",
   "pygments_lexer": "ipython3",
   "version": "3.9.13"
  },
  "orig_nbformat": 4,
  "vscode": {
   "interpreter": {
    "hash": "59669bb1168edc622bb4dae0f982b2741a2a7b3cacb44a90a5e1c2622e59ac77"
   }
  }
 },
 "nbformat": 4,
 "nbformat_minor": 2
}
